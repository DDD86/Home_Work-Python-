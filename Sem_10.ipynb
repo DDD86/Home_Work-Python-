{
  "nbformat": 4,
  "nbformat_minor": 0,
  "metadata": {
    "colab": {
      "provenance": [],
      "authorship_tag": "ABX9TyPKvqhCqQj3ZeGU9ylWDVeA",
      "include_colab_link": true
    },
    "kernelspec": {
      "name": "python3",
      "display_name": "Python 3"
    },
    "language_info": {
      "name": "python"
    }
  },
  "cells": [
    {
      "cell_type": "markdown",
      "metadata": {
        "id": "view-in-github",
        "colab_type": "text"
      },
      "source": [
        "<a href=\"https://colab.research.google.com/github/DDD86/Home_Work-Python-/blob/main/Sem_10.ipynb\" target=\"_parent\"><img src=\"https://colab.research.google.com/assets/colab-badge.svg\" alt=\"Open In Colab\"/></a>"
      ]
    },
    {
      "cell_type": "code",
      "execution_count": 6,
      "metadata": {
        "id": "ZOCFPBsO3WWs"
      },
      "outputs": [],
      "source": [
        "import pandas as pd\n",
        "import random"
      ]
    },
    {
      "cell_type": "code",
      "source": [
        "lst = ['robot'] * 10\n",
        "lst += ['human'] * 10\n",
        "random.shuffle(lst)\n",
        "data = pd.DataFrame({'whoAmI': lst})\n",
        "\n",
        "one_hot = pd.get_dummies(data['whoAmI'])\n",
        "result = pd.concat([data, one_hot], axis=1)\n",
        "\n",
        "print(result.head())"
      ],
      "metadata": {
        "colab": {
          "base_uri": "https://localhost:8080/"
        },
        "id": "oJHy-9Hz4IeK",
        "outputId": "6c65ef6d-87fb-4385-85ab-62a759166323"
      },
      "execution_count": 7,
      "outputs": [
        {
          "output_type": "stream",
          "name": "stdout",
          "text": [
            "  whoAmI  human  robot\n",
            "0  human      1      0\n",
            "1  robot      0      1\n",
            "2  robot      0      1\n",
            "3  human      1      0\n",
            "4  human      1      0\n"
          ]
        }
      ]
    },
    {
      "cell_type": "code",
      "source": [
        "lst = ['robot'] * 10\n",
        "lst += ['human'] * 10\n",
        "random.shuffle(lst)\n",
        "data = pd.DataFrame({'whoAmI': lst})\n",
        "\n",
        "one_hot_df = pd.DataFrame(columns=pd.unique(data['whoAmI']))\n",
        "\n",
        "for col in one_hot_df.columns:\n",
        "    one_hot_df[col] = (data['whoAmI'] == col).astype(int)\n",
        "\n",
        "result = pd.concat([data, one_hot_df], axis=1)\n",
        "\n",
        "print(result.head())"
      ],
      "metadata": {
        "colab": {
          "base_uri": "https://localhost:8080/"
        },
        "id": "MlJ0RRbp3uvL",
        "outputId": "b31159ec-5b98-4072-8f65-331456152cba"
      },
      "execution_count": 8,
      "outputs": [
        {
          "output_type": "stream",
          "name": "stdout",
          "text": [
            "  whoAmI  robot  human\n",
            "0  robot      1      0\n",
            "1  human      0      1\n",
            "2  robot      1      0\n",
            "3  human      0      1\n",
            "4  human      0      1\n"
          ]
        }
      ]
    }
  ]
}