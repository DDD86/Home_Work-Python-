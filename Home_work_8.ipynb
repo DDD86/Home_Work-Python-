{
  "nbformat": 4,
  "nbformat_minor": 0,
  "metadata": {
    "colab": {
      "provenance": [],
      "authorship_tag": "ABX9TyPtKIfFkuFpfg9LgqkkzlM9",
      "include_colab_link": true
    },
    "kernelspec": {
      "name": "python3",
      "display_name": "Python 3"
    },
    "language_info": {
      "name": "python"
    }
  },
  "cells": [
    {
      "cell_type": "markdown",
      "metadata": {
        "id": "view-in-github",
        "colab_type": "text"
      },
      "source": [
        "<a href=\"https://colab.research.google.com/github/DDD86/Home_Work-Python-/blob/main/Home_work_8.ipynb\" target=\"_parent\"><img src=\"https://colab.research.google.com/assets/colab-badge.svg\" alt=\"Open In Colab\"/></a>"
      ]
    },
    {
      "cell_type": "code",
      "execution_count": null,
      "metadata": {
        "id": "t6RdMyp83RlR"
      },
      "outputs": [],
      "source": []
    },
    {
      "cell_type": "markdown",
      "source": [
        "**Даны значения величины заработной платы заемщиков банка (zp) и значения их поведенческого кредитного скоринга (ks): zp = [35, 45, 190, 200, 40, 70, 54, 150, 120, 110], ks = [401, 574, 874, 919, 459, 739, 653, 902, 746, 832]. Найдите ковариацию этих двух величин с помощью элементарных действий, а затем с помощью функции cov из numpy Полученные значения должны быть равны. Найдите коэффициент корреляции Пирсона с помощью ковариации и среднеквадратичных отклонений двух признаков, а затем с использованием функций из библиотек numpy и pandas.**\n",
        "\n",
        "Средняя зарплата (mean_zp) = (35 + 45 + 190 + 200 + 40 + 70 + 54 + 150 + 120 + 110) / 10 = 110.4\n",
        "Средний кредитный скоринг (mean_ks) = (401 + 574 + 874 + 919 + 459 + 739 + 653 + 902 + 746 + 832) / 10 = 709.9\n",
        "\n",
        "cov = Σ((zp_i - mean_zp) * (ks_i - mean_ks)) / n\n",
        "\n",
        "где Σ - сумма по всем значениям, n - количество значений.\n",
        "\n",
        "cov = ((35 - 110.4) * (401 - 709.9) + (45 - 110.4) * (574 - 709.9) + ... + (110 - 110.4) * (832 - 709.9)) / 10\n",
        "\n",
        "Теперь вычислим стандартное отклонение (std) для зарплаты и кредитного скоринга:\n",
        "\n",
        "std_zp = sqrt(((35 - 110.4)^2 + (45 - 110.4)^2 + ... + (110 - 110.4)^2) / 10)\n",
        "std_ks = sqrt(((401 - 709.9)^2 + (574 - 709.9)^2 + ... + (832 - 709.9)^2) / 10)\n",
        "\n",
        "Коэффициент корреляции Пирсона (r):\n",
        "\n",
        "r = cov / (std_zp * std_ks)"
      ],
      "metadata": {
        "id": "Nw9bDTHB3YuY"
      }
    },
    {
      "cell_type": "code",
      "source": [
        "import numpy as np\n",
        "\n",
        "zp = np.array([35, 45, 190, 200, 40, 70, 54, 150, 120, 110])\n",
        "ks = np.array([401, 574, 874, 919, 459, 739, 653, 902, 746, 832])\n",
        "\n",
        "cov_np = np.cov(zp, ks, bias=True)[0, 1]\n",
        "\n",
        "mean_zp = np.mean(zp)\n",
        "mean_ks = np.mean(ks)\n",
        "\n",
        "cov_manual = np.sum((zp - mean_zp) * (ks - mean_ks)) / len(zp)\n",
        "\n",
        "std_zp = np.sqrt(np.sum((zp - mean_zp)**2) / len(zp))\n",
        "std_ks = np.sqrt(np.sum((ks - mean_ks)**2) / len(ks))\n",
        "\n",
        "r_manual = cov_manual / (std_zp * std_ks)\n",
        "\n",
        "print(\"Ковариация (элементарные действия):\", cov_manual)\n",
        "print(\"Ковариация (numpy):\", cov_np)\n",
        "print(\"Коэффициент корреляции Пирсона (элементарные действия):\", r_manual)\n",
        "\n",
        "r_np = np.corrcoef(zp, ks)[0, 1]\n",
        "print(\"Коэффициент корреляции Пирсона (numpy):\", r_np)"
      ],
      "metadata": {
        "colab": {
          "base_uri": "https://localhost:8080/"
        },
        "id": "o1FBDbaa3pse",
        "outputId": "0262efeb-6a25-4a0e-9a4e-ce3574229096"
      },
      "execution_count": 1,
      "outputs": [
        {
          "output_type": "stream",
          "name": "stdout",
          "text": [
            "Ковариация (элементарные действия): 9157.84\n",
            "Ковариация (numpy): 9157.84\n",
            "Коэффициент корреляции Пирсона (элементарные действия): 0.8874900920739162\n",
            "Коэффициент корреляции Пирсона (numpy): 0.8874900920739162\n"
          ]
        }
      ]
    },
    {
      "cell_type": "markdown",
      "source": [
        "**Измерены значения IQ выборки студентов, обучающихся в местных технических вузах: 131, 125, 115, 122, 131, 115, 107, 99, 125, 111. Известно, что в генеральной совокупности IQ распределен нормально. Найдите доверительный интервал для математического ожидания с надежностью 0.95.**\n",
        "\n"
      ],
      "metadata": {
        "id": "Zmu38Pvm3re-"
      }
    },
    {
      "cell_type": "code",
      "source": [
        "from scipy.stats import t\n",
        "\n",
        "IQ = np.array([131, 125, 115, 122, 131, 115, 107, 99, 125, 111])\n",
        "alpha = 0.05\n",
        "\n",
        "mean_IQ = np.mean(IQ)\n",
        "std_IQ = np.std(IQ, ddof=1)\n",
        "\n",
        "t_critical = t.ppf(1 - alpha / 2, df=len(IQ) - 1)\n",
        "\n",
        "margin_of_error = t_critical * (std_IQ / np.sqrt(len(IQ)))\n",
        "confidence_interval = (mean_IQ - margin_of_error, mean_IQ + margin_of_error)\n",
        "\n",
        "print(\"Доверительный интервал для математического ожидания IQ с надежностью 0.95:\", confidence_interval)"
      ],
      "metadata": {
        "colab": {
          "base_uri": "https://localhost:8080/"
        },
        "id": "WS714mZu4YcC",
        "outputId": "4d1e4785-07dd-47cf-bc93-064e137d9edc"
      },
      "execution_count": 2,
      "outputs": [
        {
          "output_type": "stream",
          "name": "stdout",
          "text": [
            "Доверительный интервал для математического ожидания IQ с надежностью 0.95: (110.55608365158724, 125.64391634841274)\n"
          ]
        }
      ]
    },
    {
      "cell_type": "markdown",
      "source": [
        "**Известно, что рост футболистов в сборной распределен нормально с дисперсией генеральной совокупности, равной 25 кв.см. Объем выборки равен 27, среднее выборочное составляет 174.2. Найдите доверительный интервал для математического ожидания с надежностью 0.95.**"
      ],
      "metadata": {
        "id": "0whI2uDZ3rcP"
      }
    },
    {
      "cell_type": "code",
      "source": [
        "mean_height = 174.2\n",
        "population_variance = 25\n",
        "n = 27\n",
        "alpha = 0.05\n",
        "\n",
        "standard_error = np.sqrt(population_variance) / np.sqrt(n)\n",
        "\n",
        "Z_critical = 1.96\n",
        "\n",
        "margin_of_error = Z_critical * standard_error\n",
        "confidence_interval = (mean_height - margin_of_error, mean_height + margin_of_error)\n",
        "\n",
        "print(\"Доверительный интервал для математического ожидания роста с надежностью 0.95:\", confidence_interval)"
      ],
      "metadata": {
        "colab": {
          "base_uri": "https://localhost:8080/"
        },
        "id": "BltjxVID4v8g",
        "outputId": "9da50583-cae9-4759-9964-a785bcd0bf3e"
      },
      "execution_count": 4,
      "outputs": [
        {
          "output_type": "stream",
          "name": "stdout",
          "text": [
            "Доверительный интервал для математического ожидания роста с надежностью 0.95: (172.31398912064722, 176.08601087935276)\n"
          ]
        }
      ]
    }
  ]
}