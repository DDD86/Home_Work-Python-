{
  "nbformat": 4,
  "nbformat_minor": 0,
  "metadata": {
    "colab": {
      "provenance": [],
      "authorship_tag": "ABX9TyMn9ejpJLt19PuDzu45rGPL",
      "include_colab_link": true
    },
    "kernelspec": {
      "name": "python3",
      "display_name": "Python 3"
    },
    "language_info": {
      "name": "python"
    }
  },
  "cells": [
    {
      "cell_type": "markdown",
      "metadata": {
        "id": "view-in-github",
        "colab_type": "text"
      },
      "source": [
        "<a href=\"https://colab.research.google.com/github/DDD86/Home_Work-Python-/blob/main/HomeWork_5.ipynb\" target=\"_parent\"><img src=\"https://colab.research.google.com/assets/colab-badge.svg\" alt=\"Open In Colab\"/></a>"
      ]
    },
    {
      "cell_type": "code",
      "execution_count": null,
      "metadata": {
        "id": "n_CoXPpe8LrO"
      },
      "outputs": [],
      "source": []
    },
    {
      "cell_type": "markdown",
      "source": [
        "**1)Вы провели эксперимент c упрощением формы заказа в магазине Утконос и получили результаты по метрике конверсий в покупку. Выберите метод оценки и оцените есть ли стат.значимые различия между конверсиями в двух группах при alpha = 5%. Дайте краткие рекомендации команде .Результаты: 1)Число юзеров в группах , которые заходили на сайт в период эксперимента: n1 = 15550 и n2 = 15550 . 2) Число юзеров в группах , которые совершили хотя бы одну покупку за период эксперимента: n1 = 164 и n2 = 228 3) Конверсии : conv1 = 1.05% conv2 = 1.47% .**"
      ],
      "metadata": {
        "id": "bE2cu1JV8Mf9"
      }
    },
    {
      "cell_type": "code",
      "source": [
        "import numpy as np\n",
        "\n",
        "p1 = 0.01055\n",
        "p2 = 0.01466\n",
        "n1 = 15550\n",
        "n2 = 15550\n",
        "\n",
        "SE = np.sqrt((p1*(1-p1))/n1 + (p2*(1-p2))/n2)\n",
        "print(f'SE = {SE}')\n",
        "\n",
        "Z = (p1 - p2) / SE\n",
        "print(f'Z = {Z}')"
      ],
      "metadata": {
        "colab": {
          "base_uri": "https://localhost:8080/"
        },
        "id": "NnXina1x8THO",
        "outputId": "acc999b6-882b-420c-b9b3-dcf871b96ed6"
      },
      "execution_count": 1,
      "outputs": [
        {
          "output_type": "stream",
          "name": "stdout",
          "text": [
            "SE = 0.0012650071972139982\n",
            "Z = -3.2489933725687097\n"
          ]
        }
      ]
    },
    {
      "cell_type": "markdown",
      "source": [
        "Различия между конверсиями статистически значимы, можно рассмотреть дальнейшие действия на основе этих результатов, такие как внедрение изменений, оптимизация процессов.\n",
        "\n",
        "**Внедрение изменений:**\n",
        "Если эксперимент показывает, что одна из групп имеет существенно более высокую конверсию, чем другая, можно рассмотреть внедрение изменений, которые привели к этим результатам, во всех или определенных сегментах вашего бизнеса.\n",
        "\n",
        "**Оптимизация процессов:**\n",
        "Анализ результатов эксперимента может помочь выявить слабые места в вашем процессе конверсии. Можно оптимизировать эти процессы, чтобы улучшить общую конверсию.\n",
        "\n",
        "**Дополнительное тестирование:**\n",
        "Если результаты эксперимента значимы, но различия невелики, может быть разумным провести дополнительные тесты или исследования, чтобы более полно понять причины зафиксированных различий."
      ],
      "metadata": {
        "id": "-YgT5phE8awh"
      }
    },
    {
      "cell_type": "markdown",
      "source": [
        "**2) Сравниваем метрику конверсия в покупку. Размер выборки - 10000 элементов в каждой группе . Какой статистический критерий тут лучше всего подойдёт и почему ?**"
      ],
      "metadata": {
        "id": "6CO-GuYX84ga"
      }
    },
    {
      "cell_type": "code",
      "source": [
        "from statsmodels.stats.proportion import proportions_ztest\n",
        "\n",
        "n1 = 10000\n",
        "n2 = 10000\n",
        "conv1 = 0.1\n",
        "conv2 = 0.12\n",
        "\n",
        "count = np.array([conv1 * n1, conv2 * n2])\n",
        "nobs = np.array([n1, n2])\n",
        "\n",
        "z_stat, p_value = proportions_ztest(count, nobs, alternative='two-sided')\n",
        "\n",
        "print(f'Z-статистика: {z_stat}')\n",
        "print(f'p-значение: {p_value}')\n"
      ],
      "metadata": {
        "colab": {
          "base_uri": "https://localhost:8080/"
        },
        "id": "FMNOJoko9Bep",
        "outputId": "a194106d-0926-40a8-e8d4-78d559b3c3eb"
      },
      "execution_count": 3,
      "outputs": [
        {
          "output_type": "stream",
          "name": "stdout",
          "text": [
            "Z-статистика: -4.519846147055684\n",
            "p-значение: 6.188458781738781e-06\n"
          ]
        }
      ]
    },
    {
      "cell_type": "markdown",
      "source": [],
      "metadata": {
        "id": "4VIhzM9H9MU3"
      }
    }
  ]
}