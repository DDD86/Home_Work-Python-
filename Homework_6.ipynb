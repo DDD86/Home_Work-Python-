{
  "nbformat": 4,
  "nbformat_minor": 0,
  "metadata": {
    "colab": {
      "provenance": [],
      "authorship_tag": "ABX9TyNoNk5WgWyC4EyTyGtJer+V",
      "include_colab_link": true
    },
    "kernelspec": {
      "name": "python3",
      "display_name": "Python 3"
    },
    "language_info": {
      "name": "python"
    }
  },
  "cells": [
    {
      "cell_type": "markdown",
      "metadata": {
        "id": "view-in-github",
        "colab_type": "text"
      },
      "source": [
        "<a href=\"https://colab.research.google.com/github/DDD86/Home_Work-Python-/blob/main/Homework_6.ipynb\" target=\"_parent\"><img src=\"https://colab.research.google.com/assets/colab-badge.svg\" alt=\"Open In Colab\"/></a>"
      ]
    },
    {
      "cell_type": "markdown",
      "source": [],
      "metadata": {
        "id": "yGet68PN_WDJ"
      }
    },
    {
      "cell_type": "markdown",
      "source": [],
      "metadata": {
        "id": "oRit_vZ-_VKg"
      }
    },
    {
      "cell_type": "markdown",
      "source": [
        "Продакт на главной mail.ru решил протестировать в рекомендательной ленте контента вместо карточек со статьями видеоплеер с короткими видео. Нынешний таймспент на юзера в день в среднем равен 25 минут, а стандартная ошибка (SD) равна 156. Мы предполагаем, что в новой версии таймспент на юзера в день изменится на 10%. Средний трафик 20000 человек в день. Посчитайте сколько дней необходимо держать эксперимент при alpha = 5% и beta = 20% .\n",
        "\n",
        "Наша продуктовая команда в ecommerce магазине планирует запустить тест, направленный на ускорение загрузки сайта. Одна из основных метрик bounce rate в GA = 40%. Мы предполагаем, что при оптимизации сайта она изменится минимум на 20%.Средний трафик 4000 человек в день. Посчитайте сколько нам нужно дней держать эксперимент при alpha = 5% и beta = 20%"
      ],
      "metadata": {
        "id": "V9nK_3U8_YXi"
      }
    },
    {
      "cell_type": "code",
      "source": [
        "from statsmodels.stats.power import TTestIndPower\n",
        "from statsmodels.stats.proportion import proportion_effectsize\n",
        "\n",
        "# Исходные данные для первого эксперимента\n",
        "effect_size_1 = 0.1  # изменение времени на 10%\n",
        "alpha = 0.05\n",
        "beta = 0.2\n",
        "sd = 156\n",
        "mean = 25\n",
        "traffic_1 = 20000\n",
        "\n",
        "# Расчёт длительности эксперимента для первого случая\n",
        "power_analysis_1 = TTestIndPower()\n",
        "sample_size_1 = power_analysis_1.solve_power(effect_size=effect_size_1, alpha=alpha, power=1-beta, ratio=1, alternative='larger')\n",
        "days_required_1 = sample_size_1 / traffic_1\n",
        "print(\"Длительность эксперимента для первого случая (в днях):\", days_required_1)\n",
        "\n",
        "# Исходные данные для второго эксперимента\n",
        "p1_2 = 0.4  # текущий bounce rate\n",
        "p2_2 = 0.2  # предполагаемое изменение bounce rate\n",
        "traffic_2 = 4000\n",
        "\n",
        "# Расчёт длительности эксперимента для второго случая\n",
        "effect_size_2 = proportion_effectsize(p1_2, p2_2)\n",
        "power_analysis_2 = TTestIndPower()\n",
        "sample_size_2 = power_analysis_2.solve_power(effect_size=effect_size_2, alpha=alpha, power=1-beta, ratio=1, alternative='larger')\n",
        "days_required_2 = sample_size_2 / traffic_2\n",
        "print(\"Длительность эксперимента для второго случая (в днях):\", days_required_2)\n"
      ],
      "metadata": {
        "colab": {
          "base_uri": "https://localhost:8080/"
        },
        "id": "vyc5DVjU_kBT",
        "outputId": "321cafa8-48b0-4930-b215-16a67760197c"
      },
      "execution_count": 1,
      "outputs": [
        {
          "output_type": "stream",
          "name": "stdout",
          "text": [
            "Длительность эксперимента для первого случая (в днях): 0.06185942008673719\n",
            "Длительность эксперимента для второго случая (в днях): 0.015984746578338985\n"
          ]
        }
      ]
    },
    {
      "cell_type": "code",
      "source": [],
      "metadata": {
        "id": "zHQA1-Xz_bsz"
      },
      "execution_count": null,
      "outputs": []
    }
  ]
}