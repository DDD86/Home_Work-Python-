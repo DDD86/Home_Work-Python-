{
  "nbformat": 4,
  "nbformat_minor": 0,
  "metadata": {
    "colab": {
      "provenance": [],
      "authorship_tag": "ABX9TyOIBj907DL/4JgdbU+Q+FB1",
      "include_colab_link": true
    },
    "kernelspec": {
      "name": "python3",
      "display_name": "Python 3"
    },
    "language_info": {
      "name": "python"
    }
  },
  "cells": [
    {
      "cell_type": "markdown",
      "metadata": {
        "id": "view-in-github",
        "colab_type": "text"
      },
      "source": [
        "<a href=\"https://colab.research.google.com/github/DDD86/Home_Work-Python-/blob/main/Home_work_10.ipynb\" target=\"_parent\"><img src=\"https://colab.research.google.com/assets/colab-badge.svg\" alt=\"Open In Colab\"/></a>"
      ]
    },
    {
      "cell_type": "markdown",
      "source": [
        "**Провести дисперсионный анализ для определения того, есть ли различия среднего роста среди взрослых футболистов, хоккеистов и штангистов. Даны значения роста в трех группах случайно выбранных спортсменов: Футболисты: 173, 175, 180, 178, 177, 185, 183, 182. Хоккеисты: 177, 179, 180, 188, 177, 172, 171, 184, 180. Штангисты: 172, 173, 169, 177, 166, 180, 178, 177, 172, 166, 170. ***"
      ],
      "metadata": {
        "id": "pcIoJC3B9BZd"
      }
    },
    {
      "cell_type": "code",
      "source": [
        "import numpy as np\n",
        "from scipy.stats import f_oneway\n",
        "\n",
        "football_players = np.array([173, 175, 180, 178, 177, 185, 183, 182])\n",
        "hockey_players = np.array([177, 179, 180, 188, 177, 172, 171, 184, 180])\n",
        "weightlifters = np.array([172, 173, 169, 177, 166, 180, 178, 177, 172, 166, 170])\n",
        "\n",
        "f_statistic, p_value = f_oneway(football_players, hockey_players, weightlifters)\n",
        "\n",
        "print(\"F-статистика:\", f_statistic)\n",
        "print(\"p-значение:\", p_value)"
      ],
      "metadata": {
        "colab": {
          "base_uri": "https://localhost:8080/"
        },
        "id": "GQ0DJnkT9DEk",
        "outputId": "b63d2809-420d-4b6a-9857-7794c5bfd476"
      },
      "execution_count": null,
      "outputs": [
        {
          "output_type": "stream",
          "name": "stdout",
          "text": [
            "F-статистика: 5.500053450812596\n",
            "p-значение: 0.010482206918698694\n"
          ]
        }
      ]
    },
    {
      "cell_type": "markdown",
      "source": [
        "*Учитывая, что p-значение (0.0105) меньше обычно используемого уровня значимости 0.05, мы отклоняем нулевую гипотезу о равенстве средних значений роста в трех группах спортсменов. Следовательно, можно сделать вывод о том, что средние значения роста в группах футболистов, хоккеистов и штангистов статистически значимо различаются.*"
      ],
      "metadata": {
        "id": "7Zr_nOG69t4q"
      }
    }
  ]
}